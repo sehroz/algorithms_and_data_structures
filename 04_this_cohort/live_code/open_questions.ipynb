{
 "cells": [
  {
   "cell_type": "code",
   "execution_count": 29,
   "id": "bc3c6241-62c6-46e7-9ccf-17e6f25269ab",
   "metadata": {},
   "outputs": [
    {
     "name": "stdout",
     "output_type": "stream",
     "text": [
      "True\n"
     ]
    }
   ],
   "source": [
    "def find_all_pairs_with_a_given_sum(lst, val):\n",
    "    result = []\n",
    "    for i in range(len(lst)):\n",
    "        for j in range(len(lst)):\n",
    "            if lst[i]+lst[j] == val and i != j:\n",
    "                result.append((lst[i], lst[j]))\n",
    "\n",
    "    return result\n",
    "\n",
    "res = find_all_pairs_with_a_given_sum([1, 2, 3, 4, 5, 6, 7, 8], 11)\n",
    "print(res == [(3, 8), (4, 7), (5, 6), (6, 5), (7, 4), (8, 3)])\n",
    "# What is the efficiency?\n",
    "# O(n^2)\n",
    "\n",
    "def find_all_pairs_eff(lst, val):\n",
    "    lst = sorted(lst) #O(nlogn)\n",
    "\n",
    "    res = []\n",
    "    res2 = []\n",
    "    \n",
    "    i = 0\n",
    "    j = len(lst) - 1\n",
    "    while i < j:\n",
    "        if lst[i] + lst[j] == val:\n",
    "            res.append((lst[i], lst[j]))\n",
    "            res2.insert(0, (lst[j], lst[i]))\n",
    "            i += 1\n",
    "            j += -1 # Assumes that there's no duplicates in lst\n",
    "        elif lst[i] + lst[j] > val:\n",
    "            j += -1\n",
    "        elif lst[i] + lst[j] < val:\n",
    "            i += 1\n",
    "    return res + res2"
   ]
  },
  {
   "cell_type": "code",
   "execution_count": 30,
   "id": "d82a6bbf-a503-46b0-ada7-fdd11ff7850d",
   "metadata": {},
   "outputs": [
    {
     "name": "stdout",
     "output_type": "stream",
     "text": [
      "True\n"
     ]
    }
   ],
   "source": [
    "res = find_all_pairs_eff([1, 2, 3, 4, 5, 6, 7, 8], 11)\n",
    "print(res == [(3, 8), (4, 7), (5, 6), (6, 5), (7, 4), (8, 3)])"
   ]
  },
  {
   "cell_type": "code",
   "execution_count": null,
   "id": "8402d62a-2581-48ac-88b6-e264992bb100",
   "metadata": {},
   "outputs": [],
   "source": [
    "lst = [1,2,5,6,3]\n",
    "x = 6\n",
    "\n",
    "def get_all_sums(lst, x):\n",
    "    result = []\n",
    "    get_all_sums_rec(lst, x, [], result)\n",
    "    return result\n",
    "    \n",
    "\n",
    "def get_all_sums_rec(lst, x, combinations, result):\n",
    "    if x == 0:\n",
    "        result.append(combinations)\n",
    "        return\n",
    "    elif len(lst) == 0 or x < 0:\n",
    "        return\n",
    "\n",
    "    current_value = lst[0]\n",
    "    \n",
    "    get_all_sums_rec(lst[1:], x - current_value, combinations + [current_value], result) # current_value is part of the solution\n",
    "    get_all_sums_rec(lst[1:], x, combinations, result) # current_value is not part of the solution"
   ]
  },
  {
   "cell_type": "code",
   "execution_count": null,
   "id": "3344ca99-a4cb-4d89-b2e6-fb32a235b639",
   "metadata": {},
   "outputs": [],
   "source": [
    "# Space complexity:\n",
    "# Call stack\n",
    "# Lists we're maintaining\n",
    "# call stack: len(lst)\n",
    "# combinations max space is len(lst)\n",
    "# result nested lists ?\n",
    "\n",
    "# Time complexity >= space complexity:\n",
    "\n",
    "# time complexity\n",
    "# time complexity: o(2^n)\n",
    "# space complexity ~= o(2^n) \n",
    "\n"
   ]
  }
 ],
 "metadata": {
  "kernelspec": {
   "display_name": "Python 3 (ipykernel)",
   "language": "python",
   "name": "python3"
  },
  "language_info": {
   "codemirror_mode": {
    "name": "ipython",
    "version": 3
   },
   "file_extension": ".py",
   "mimetype": "text/x-python",
   "name": "python",
   "nbconvert_exporter": "python",
   "pygments_lexer": "ipython3",
   "version": "3.11.5"
  }
 },
 "nbformat": 4,
 "nbformat_minor": 5
}
