{
 "cells": [
  {
   "cell_type": "code",
   "execution_count": null,
   "id": "4dc1b7b5-3a49-4224-a855-6f3329a5cfd7",
   "metadata": {
    "id": "4dc1b7b5-3a49-4224-a855-6f3329a5cfd7"
   },
   "outputs": [],
   "source": [
    "# Lecture 1: Main takeaway was Big O notation, and determining complexity of algorithms"
   ]
  },
  {
   "cell_type": "code",
   "execution_count": null,
   "id": "25100f4e-90a1-4450-b52f-75289369d9b3",
   "metadata": {
    "id": "25100f4e-90a1-4450-b52f-75289369d9b3"
   },
   "outputs": [],
   "source": [
    "# Big O measures the relationship between the size of the input and the number of operations in an algorithm\n",
    "\n",
    "# If regardless of the number of elements, the number of operations (or steps) is constant, then the Big O is 1 O(1)\n",
    "# If for every element, you have to do a fixed set of operations, then it's linear O(n)\n",
    "# If for n elements, you have to do log(n) operations (think dividing the input in half untill you reach size 1), then it O(nlogn)\n",
    "# If for n elements, you have to do an operation for every element (simple sorting algorithms), then it's O(n^2)"
   ]
  },
  {
   "cell_type": "code",
   "execution_count": null,
   "id": "327a0382-8805-4bf5-bd84-ef57c296ded9",
   "metadata": {
    "id": "327a0382-8805-4bf5-bd84-ef57c296ded9"
   },
   "outputs": [],
   "source": []
  },
  {
   "cell_type": "code",
   "execution_count": 1,
   "id": "0edd22f1-6889-41b6-90c2-eeafa16897c1",
   "metadata": {
    "id": "0edd22f1-6889-41b6-90c2-eeafa16897c1"
   },
   "outputs": [
    {
     "name": "stderr",
     "output_type": "stream",
     "text": [
      "Matplotlib is building the font cache; this may take a moment.\n"
     ]
    }
   ],
   "source": [
    "import timeit\n",
    "import matplotlib.pyplot as plt\n",
    "import random\n",
    "\n",
    "# O(1)\n",
    "def get_first_element(lst):\n",
    "    return lst[0]\n",
    "\n",
    "\n",
    "def plot_constant_complexity():\n",
    "    input_sizes = [100, 500, 1000, 2000, 5000, 10000]\n",
    "    execution_times_constant = []\n",
    "    for size in input_sizes:\n",
    "        lst = list(range(size))\n",
    "        execution_time = timeit.timeit(lambda: get_first_element(lst), number=10000)\n",
    "        execution_times_constant.append(execution_time)\n",
    "\n",
    "    return execution_times_constant"
   ]
  },
  {
   "cell_type": "code",
   "execution_count": 2,
   "id": "0ee33b7f-3e10-4b98-9b80-507d8087d770",
   "metadata": {
    "id": "0ee33b7f-3e10-4b98-9b80-507d8087d770"
   },
   "outputs": [],
   "source": [
    "import timeit\n",
    "import matplotlib.pyplot as plt\n",
    "import random\n",
    "\n",
    "#O(n)\n",
    "def linear_search(lst, target):\n",
    "    for item in lst:\n",
    "        if item == target:\n",
    "            return True\n",
    "    return False\n",
    "\n",
    "\n",
    "def plot_linear_complexity():\n",
    "    input_sizes = [100, 500, 1000, 2000, 5000, 10000]\n",
    "    execution_times_linear = []\n",
    "    for size in input_sizes:\n",
    "        lst = list(range(size))\n",
    "        target = random.randint(0, size - 1)\n",
    "        execution_time = timeit.timeit(lambda: linear_search(lst, target), number=10000)\n",
    "        execution_times_linear.append(execution_time)\n",
    "\n",
    "    return execution_times_linear"
   ]
  },
  {
   "cell_type": "code",
   "execution_count": 3,
   "id": "ea1f9293-968c-4f57-bb13-252c87948072",
   "metadata": {
    "id": "ea1f9293-968c-4f57-bb13-252c87948072"
   },
   "outputs": [],
   "source": [
    "import timeit\n",
    "import matplotlib.pyplot as plt\n",
    "import random\n",
    "\n",
    "#O(n^2)\n",
    "def bubble_sort(lst):\n",
    "    n = len(lst)\n",
    "    for i in range(n):\n",
    "        for j in range(0, n - i - 1):\n",
    "            if lst[j] > lst[j + 1]:\n",
    "                lst[j], lst[j + 1] = lst[j + 1], lst[j]\n",
    "\n",
    "\n",
    "def plot_quadratic_complexity():\n",
    "    execution_times_exp = []\n",
    "    input_sizes = [100, 500, 1000, 2000, 5000, 10000]\n",
    "\n",
    "\n",
    "    for size in input_sizes:\n",
    "        lst = random.sample(range(1, 20000), size)\n",
    "        execution_time = timeit.timeit(lambda: bubble_sort(lst.copy()), number=10)\n",
    "        execution_times_exp.append(execution_time)\n",
    "\n",
    "    return execution_times_exp"
   ]
  },
  {
   "cell_type": "code",
   "execution_count": 4,
   "id": "53ad3515-5669-4622-afb1-dfdd700afbd7",
   "metadata": {
    "id": "53ad3515-5669-4622-afb1-dfdd700afbd7"
   },
   "outputs": [],
   "source": [
    "import timeit\n",
    "import matplotlib.pyplot as plt\n",
    "import random\n",
    "\n",
    "#O(logn)\n",
    "def binary_search(lst, target):\n",
    "    low, high = 0, len(lst) - 1\n",
    "    while low <= high:\n",
    "        mid = (low + high) // 2\n",
    "        if lst[mid] == target:\n",
    "            return True\n",
    "        elif lst[mid] < target:\n",
    "            low = mid + 1\n",
    "        else:\n",
    "            high = mid - 1\n",
    "    return False\n",
    "\n",
    "\n",
    "def plot_logarithmic_complexity():\n",
    "    input_sizes = [100, 500, 1000, 2000, 5000, 10000]\n",
    "    execution_times_log = []\n",
    "\n",
    "    for size in input_sizes:\n",
    "        sorted_lst = sorted(random.sample(range(0, size), size))\n",
    "        target = random.choice(sorted_lst)\n",
    "        execution_time = timeit.timeit(lambda: binary_search(sorted_lst, target), number=10000)\n",
    "        execution_times_log.append(execution_time)\n",
    "\n",
    "    return execution_times_log"
   ]
  },
  {
   "cell_type": "code",
   "execution_count": 32,
   "id": "be0efd04-ed32-46ec-9553-bf872a84c5ae",
   "metadata": {
    "id": "be0efd04-ed32-46ec-9553-bf872a84c5ae"
   },
   "outputs": [],
   "source": [
    "# etc = plot_constant_complexity()\n",
    "# etl = plot_linear_complexity()\n",
    "ete = plot_quadratic_complexity()\n",
    "# etlog = plot_logarithmic_complexity()"
   ]
  },
  {
   "cell_type": "code",
   "execution_count": 35,
   "id": "1d8080d5-c8c4-4d99-a1e6-5de875865a2e",
   "metadata": {
    "id": "1d8080d5-c8c4-4d99-a1e6-5de875865a2e",
    "outputId": "7108ce84-b12f-4732-ca67-35a12073febf"
   },
   "outputs": [
    {
     "data": {
      "image/png": "[encoded data removed]",
      "text/plain": [
       "<Figure size 640x480 with 1 Axes>"
      ]
     },
     "metadata": {},
     "output_type": "display_data"
    }
   ],
   "source": [
    "input_sizes = [100, 500, 1000, 2000, 5000, 10000]\n",
    "plt.plot(input_sizes, etc, label='Get First Element O(1)')\n",
    "plt.plot(input_sizes, etlog, label='Binary Search  O(logn)')\n",
    "plt.plot(input_sizes, etl, label='Linear Search O(n)')\n",
    "plt.plot(input_sizes, ete, label='Bubble Sort O(n^2)')\n",
    "plt.xlabel('List Size')\n",
    "plt.ylabel('Execution Time (seconds)')\n",
    "plt.title('Different complexities')\n",
    "plt.legend()\n",
    "plt.show()"
   ]
  },
  {
   "cell_type": "code",
   "execution_count": null,
   "id": "0a79533a-4d25-44b8-aa92-9ab5ae8d64fc",
   "metadata": {
    "id": "0a79533a-4d25-44b8-aa92-9ab5ae8d64fc"
   },
   "outputs": [],
   "source": []
  },
  {
   "cell_type": "code",
   "execution_count": null,
   "id": "1f4ce9ee-70d2-497b-9ef6-0d159a956ad9",
   "metadata": {
    "id": "1f4ce9ee-70d2-497b-9ef6-0d159a956ad9"
   },
   "outputs": [],
   "source": [
    "# Lecture 2: Data strctures\n",
    "\n",
    "# If you have unordered data, use sets or maps (dictionaries), they get you O(1) operations (to use sets, or maps, the keys or elements need to be unique)\n",
    "# If you have ordered data, lists are your main options (in some scenarios, stacks and queues make sense)\n",
    "\n",
    "# If you need to sort data, never do it  yourself. Sorting algorithms are already provided to you, and those are more efficient than\n",
    "# sorting algorithms you can implement. Python's Timsort is much faster than insert/selection/bubble sort.\n",
    "# And it's generally better than quicksort/mergesort"
   ]
  },
  {
   "cell_type": "code",
   "execution_count": null,
   "id": "25dbfe58-3dfe-4016-a924-17c2db68a5a0",
   "metadata": {
    "id": "25dbfe58-3dfe-4016-a924-17c2db68a5a0",
    "outputId": "9af9844a-2ed0-48ba-e9f1-6338f8dc32c6"
   },
   "outputs": [
    {
     "data": {
      "image/png": "[encoded data removed]",
      "text/plain": [
       "<Figure size 640x480 with 1 Axes>"
      ]
     },
     "metadata": {},
     "output_type": "display_data"
    }
   ],
   "source": [
    "import timeit\n",
    "import matplotlib.pyplot as plt\n",
    "import random\n",
    "\n",
    "def selection_sort(lst):\n",
    "    n = len(lst)\n",
    "    for i in range(n):\n",
    "        min_index = i\n",
    "        for j in range(i+1, n):\n",
    "            if lst[j] < lst[min_index]:\n",
    "                min_index = j\n",
    "        lst[i], lst[min_index] = lst[min_index], lst[i]\n",
    "\n",
    "def insertion_sort(lst):\n",
    "    for i in range(1, len(lst)):\n",
    "        key = lst[i]\n",
    "        j = i - 1\n",
    "        while j >= 0 and key < lst[j]:\n",
    "            lst[j + 1] = lst[j]\n",
    "            j -= 1\n",
    "        lst[j + 1] = key\n",
    "\n",
    "def merge_sort(lst):\n",
    "    if len(lst) > 1:\n",
    "        mid = len(lst) // 2\n",
    "        left_half = lst[:mid]\n",
    "        right_half = lst[mid:]\n",
    "\n",
    "        merge_sort(left_half)\n",
    "        merge_sort(right_half)\n",
    "\n",
    "        i = j = k = 0\n",
    "\n",
    "        while i < len(left_half) and j < len(right_half):\n",
    "            if left_half[i] < right_half[j]:\n",
    "                lst[k] = left_half[i]\n",
    "                i += 1\n",
    "            else:\n",
    "                lst[k] = right_half[j]\n",
    "                j += 1\n",
    "            k += 1\n",
    "\n",
    "        while i < len(left_half):\n",
    "            lst[k] = left_half[i]\n",
    "            i += 1\n",
    "            k += 1\n",
    "\n",
    "        while j < len(right_half):\n",
    "            lst[k] = right_half[j]\n",
    "            j += 1\n",
    "            k += 1\n",
    "\n",
    "def quicksort(lst):\n",
    "    if len(lst) <= 1:\n",
    "        return lst\n",
    "    pivot = lst[len(lst) // 2]\n",
    "    left = [x for x in lst if x < pivot]\n",
    "    middle = [x for x in lst if x == pivot]\n",
    "    right = [x for x in lst if x > pivot]\n",
    "    return quicksort(left) + middle + quicksort(right)\n",
    "\n",
    "def timsort_sort(lst):\n",
    "    return sorted(lst)\n",
    "\n",
    "def plot_sorting_algorithms():\n",
    "    input_sizes = [10, 50, 100, 200, 500, 1000]\n",
    "    sorting_algorithms = [selection_sort, insertion_sort, merge_sort, quicksort, timsort_sort]\n",
    "    algorithm_names = ['Selection Sort', 'Insertion Sort', 'Merge Sort', 'QuickSort', 'Timsort']\n",
    "\n",
    "    for sort_algorithm, algorithm_name in zip(sorting_algorithms, algorithm_names):\n",
    "        execution_times = []\n",
    "        for size in input_sizes:\n",
    "            lst = random.sample(range(1, 10000), size)\n",
    "            execution_time = timeit.timeit(lambda: sort_algorithm(lst.copy()), number=10)\n",
    "            execution_times.append(execution_time)\n",
    "\n",
    "        plt.plot(input_sizes, execution_times, label=algorithm_name)\n",
    "\n",
    "    plt.xlabel('List Size')\n",
    "    plt.ylabel('Execution Time (seconds)')\n",
    "    plt.title('Comparison of Sorting Algorithms')\n",
    "    plt.legend()\n",
    "    plt.show()\n",
    "\n",
    "# Run the experiment and plot the results\n",
    "plot_sorting_algorithms()\n"
   ]
  },
  {
   "cell_type": "code",
   "execution_count": null,
   "id": "42da6873-2b1d-412b-8152-e3fc85c1749a",
   "metadata": {
    "id": "42da6873-2b1d-412b-8152-e3fc85c1749a"
   },
   "outputs": [],
   "source": []
  },
  {
   "cell_type": "code",
   "execution_count": null,
   "id": "63102e86-5aba-4420-82e8-e88c13c24ee5",
   "metadata": {
    "id": "63102e86-5aba-4420-82e8-e88c13c24ee5"
   },
   "outputs": [],
   "source": [
    "# Recursion: A powerful technique in which you solve a step of the problem, and then call the function again to solve the remaining problem\n",
    "# (You assume that the recursive call works)"
   ]
  },
  {
   "cell_type": "code",
   "execution_count": null,
   "id": "2c90cb70-0c78-46b1-b0ae-e77da42780bc",
   "metadata": {
    "id": "2c90cb70-0c78-46b1-b0ae-e77da42780bc",
    "outputId": "2189f5ea-efbc-4ae7-ca98-3ac9154b93bc"
   },
   "outputs": [
    {
     "data": {
      "text/plain": [
       "'gfedcba'"
      ]
     },
     "execution_count": 21,
     "metadata": {},
     "output_type": "execute_result"
    }
   ],
   "source": [
    "# Example of recursion to reverse a string\n",
    "def reverse_string(s):\n",
    "    if len(s) == 0:\n",
    "        # Base case for length == 0\n",
    "        return s\n",
    "    elif len(s) == 1:\n",
    "        # Base case for length == 1\n",
    "        return s\n",
    "    else:\n",
    "        # Recursive case\n",
    "        # abcdefg\n",
    "        # reverse(bcdefg)  + a\n",
    "        return reverse_string(s[1:]) + s[0]\n",
    "# Base cases:\n",
    "# input: \"\", output: \"\"\n",
    "# input: \"a\", output: \"a\"\n",
    "\n",
    "# input: \"abcdefg\"\n",
    "# output: \"gfedcba\"\n",
    "reverse_string(\"abcdefg\")\n",
    "\n",
    "# solving a maze\n",
    "# base case is: arrived at the end\n",
    "# 4 recursive cases:\n",
    "# Go left\n",
    "# Go right\n",
    "# Go forward\n",
    "# Go backward"
   ]
  },
  {
   "cell_type": "code",
   "execution_count": null,
   "id": "c5ed7e13-e61f-40f9-9098-5a7dcd55d9b0",
   "metadata": {
    "id": "c5ed7e13-e61f-40f9-9098-5a7dcd55d9b0"
   },
   "outputs": [],
   "source": [
    "# The time complexity of the recursive functions is O(n) if there's only one recursive call\n",
    "# Otherwise it's O(x^n) where x is the number of recursive calls in the recursive case, and n is the depth\n",
    "\n",
    "# The main value of recursive functions is to solve problems in simpler ways, and not necessarily for time efficiency\n",
    "# Although merge sort (which is recursive) is more efficient than insertion/selection sort, which is iterative"
   ]
  },
  {
   "cell_type": "code",
   "execution_count": null,
   "id": "30fdee7d-ce83-4da3-9ff9-b4405e0c3309",
   "metadata": {
    "id": "30fdee7d-ce83-4da3-9ff9-b4405e0c3309"
   },
   "outputs": [],
   "source": []
  },
  {
   "cell_type": "code",
   "execution_count": null,
   "id": "4861673d-7e89-4d7e-978b-f9cdef60a145",
   "metadata": {
    "id": "4861673d-7e89-4d7e-978b-f9cdef60a145"
   },
   "outputs": [],
   "source": [
    "# Recursive Data Structures: Trees"
   ]
  },
  {
   "cell_type": "code",
   "execution_count": 6,
   "id": "20a8bdf7-dabd-4924-9a54-809193f98348",
   "metadata": {
    "id": "20a8bdf7-dabd-4924-9a54-809193f98348"
   },
   "outputs": [],
   "source": [
    "class Node:\n",
    "  \"\"\"Tree class\n",
    "  \"\"\"\n",
    "  def __init__(self, key):\n",
    "    self.left = None\n",
    "    self.right = None\n",
    "    self.val = key\n",
    "\n",
    "def print_inorder(root): # This is used if we want to traverse a binary search tree in sorted order\n",
    "  if root:\n",
    "    print_inorder(root.left)\n",
    "    print(root.val, end = \" \")\n",
    "    print_inorder(root.right)\n",
    "\n",
    "def print_preorder(root): # This is used when we want to do something to the parent before moving on to the children (ex. when making a copy of a tree)\n",
    "  if root:\n",
    "    print(root.val, end = \" \")\n",
    "    print_preorder(root.left)\n",
    "    print_preorder(root.right)\n",
    "\n",
    "def print_postorder(root): # This is used when we want to do something to the children before moving on to the parent (ex. deleting a tree)\n",
    "  if root:\n",
    "    print_postorder(root.left)\n",
    "    print_postorder(root.right)\n",
    "    print(root.val, end = \" \")\n",
    "\n",
    "root = Node(1)\n",
    "root.left = Node(2)\n",
    "root.right = Node(3)\n",
    "root.left.left = Node(4)\n",
    "root.left.right = Node(5)\n",
    "root.right.left = Node(6)"
   ]
  },
  {
   "cell_type": "code",
   "execution_count": 7,
   "id": "9bfe10d3-8462-4dac-b7b8-512d653c218f",
   "metadata": {
    "id": "9bfe10d3-8462-4dac-b7b8-512d653c218f",
    "outputId": "93b9939b-73ba-49c9-eaaa-3e4801587c84"
   },
   "outputs": [
    {
     "name": "stdout",
     "output_type": "stream",
     "text": [
      "4 2 5 1 6 3 "
     ]
    }
   ],
   "source": [
    "print_inorder(root)"
   ]
  },
  {
   "cell_type": "code",
   "execution_count": 8,
   "id": "700f2409-46e8-4735-83f6-2bb26fc8a09f",
   "metadata": {
    "id": "700f2409-46e8-4735-83f6-2bb26fc8a09f",
    "outputId": "c0b2d8ca-f14b-45bc-82a4-9d4d6ce46f11"
   },
   "outputs": [
    {
     "name": "stdout",
     "output_type": "stream",
     "text": [
      "1 2 4 5 3 6 "
     ]
    }
   ],
   "source": [
    "print_preorder(root)"
   ]
  },
  {
   "cell_type": "code",
   "execution_count": 9,
   "id": "06e38d4a-c783-4fcc-a9c7-724a649f206b",
   "metadata": {
    "id": "06e38d4a-c783-4fcc-a9c7-724a649f206b",
    "outputId": "e45a237c-4c44-4a41-c826-e100da4da4b2"
   },
   "outputs": [
    {
     "name": "stdout",
     "output_type": "stream",
     "text": [
      "4 5 2 6 3 1 "
     ]
    }
   ],
   "source": [
    "print_postorder(root)"
   ]
  },
  {
   "cell_type": "code",
   "execution_count": 10,
   "id": "0bb6a06c-ff26-4b02-a9bd-90a6194a32f0",
   "metadata": {
    "id": "0bb6a06c-ff26-4b02-a9bd-90a6194a32f0"
   },
   "outputs": [],
   "source": [
    "def insert_bst(root, value):\n",
    "    if not root:\n",
    "        return Node(value)\n",
    "    else:\n",
    "        if root.val > value:\n",
    "            root.left = insert_bst(root.left, value)\n",
    "            return root\n",
    "        else:\n",
    "            root.right = insert_bst(root.right, value)\n",
    "            return root"
   ]
  },
  {
   "cell_type": "code",
   "execution_count": 11,
   "id": "83f68eb9-18f5-463a-9423-2339730ae668",
   "metadata": {
    "id": "83f68eb9-18f5-463a-9423-2339730ae668",
    "outputId": "22be7e99-291d-4e59-fd66-b55d83d33a3c"
   },
   "outputs": [
    {
     "data": {
      "text/plain": [
       "<__main__.Node at 0x10a9b34d0>"
      ]
     },
     "execution_count": 11,
     "metadata": {},
     "output_type": "execute_result"
    }
   ],
   "source": [
    "root = Node(50)\n",
    "insert_bst(root, 25)\n",
    "insert_bst(root, 75)\n",
    "insert_bst(root, 82)\n",
    "insert_bst(root, 67)\n",
    "insert_bst(root, 12)\n",
    "insert_bst(root, 37)"
   ]
  },
  {
   "cell_type": "code",
   "execution_count": 12,
   "id": "217d51d9-ef98-417b-b962-ff2f3f8028e8",
   "metadata": {
    "id": "217d51d9-ef98-417b-b962-ff2f3f8028e8",
    "outputId": "0351a427-c83c-42e9-ba8c-79b18f82e4be"
   },
   "outputs": [
    {
     "name": "stdout",
     "output_type": "stream",
     "text": [
      "12 25 37 50 67 75 82 "
     ]
    }
   ],
   "source": [
    "print_inorder(root)"
   ]
  },
  {
   "cell_type": "code",
   "execution_count": 15,
   "id": "7377b4b4-1a46-49bc-bc85-3c8a8475c14d",
   "metadata": {
    "id": "7377b4b4-1a46-49bc-bc85-3c8a8475c14d"
   },
   "outputs": [],
   "source": [
    "def print_tree_structure(root):\n",
    "    if not root:\n",
    "        return\n",
    "\n",
    "    queue = [root]\n",
    "\n",
    "    while queue:\n",
    "        level_size = len(queue)\n",
    "\n",
    "        for i in range(level_size):\n",
    "            current_node = queue.pop(0)\n",
    "            print(current_node.val, end=\" \")\n",
    "\n",
    "            if current_node.left:\n",
    "                queue.append(current_node.left)\n",
    "\n",
    "            if current_node.right:\n",
    "                queue.append(current_node.right)\n",
    "\n",
    "        print()  # Move to the next line after each level"
   ]
  },
  {
   "cell_type": "code",
   "execution_count": 16,
   "id": "97abfd7d-b4da-430f-b6c2-6e79e6cf94ed",
   "metadata": {
    "id": "97abfd7d-b4da-430f-b6c2-6e79e6cf94ed",
    "outputId": "7d99b4ff-d1e9-4235-da9f-586de8f5f1ed"
   },
   "outputs": [
    {
     "name": "stdout",
     "output_type": "stream",
     "text": [
      "50 \n",
      "25 75 \n",
      "12 37 67 82 \n",
      "0 \n"
     ]
    }
   ],
   "source": [
    "res = print_tree_structure(root)"
   ]
  },
  {
   "cell_type": "code",
   "execution_count": 17,
   "id": "3a241cc9-00d2-4eb6-a551-aeeafb7b9c95",
   "metadata": {
    "id": "3a241cc9-00d2-4eb6-a551-aeeafb7b9c95",
    "outputId": "60298fae-d43f-4c76-b8b5-ca879f0eacf7"
   },
   "outputs": [
    {
     "data": {
      "text/plain": [
       "<__main__.Node at 0x10a9b34d0>"
      ]
     },
     "execution_count": 17,
     "metadata": {},
     "output_type": "execute_result"
    }
   ],
   "source": [
    "insert_bst(root, 0)"
   ]
  },
  {
   "cell_type": "code",
   "execution_count": 18,
   "id": "ec912755-d4ba-4a9c-a690-26c2adc3cce1",
   "metadata": {
    "id": "ec912755-d4ba-4a9c-a690-26c2adc3cce1",
    "outputId": "e886aad7-015b-49bc-b512-3c18d1b34fb0"
   },
   "outputs": [
    {
     "name": "stdout",
     "output_type": "stream",
     "text": [
      "50 \n",
      "25 75 \n",
      "12 37 67 82 \n",
      "0 \n",
      "0 \n"
     ]
    }
   ],
   "source": [
    "res = print_tree_structure(root)"
   ]
  },
  {
   "cell_type": "code",
   "execution_count": 19,
   "id": "429074fd-33e1-4078-b39b-3bb25979d6cd",
   "metadata": {
    "id": "429074fd-33e1-4078-b39b-3bb25979d6cd",
    "outputId": "ad7f4998-57d3-4de6-a895-0fa84b492c5a"
   },
   "outputs": [
    {
     "name": "stdout",
     "output_type": "stream",
     "text": [
      "0 0 12 25 37 50 67 75 82 "
     ]
    }
   ],
   "source": [
    "print_inorder(root)"
   ]
  },
  {
   "cell_type": "code",
   "execution_count": null,
   "id": "be910be2-2495-436e-bc73-4785484e531b",
   "metadata": {
    "id": "be910be2-2495-436e-bc73-4785484e531b"
   },
   "outputs": [],
   "source": []
  },
  {
   "cell_type": "code",
   "execution_count": null,
   "id": "b6b1ee37-44f6-4ce4-84ed-fd63b0e606e4",
   "metadata": {
    "id": "b6b1ee37-44f6-4ce4-84ed-fd63b0e606e4"
   },
   "outputs": [],
   "source": [
    "# Given the root of a binary tree, check whether it is a mirror of itself (i.e., symmetric around its center).\n",
    "# https://leetcode.com/problems/symmetric-tree/description/\n"
   ]
  },
  {
   "cell_type": "code",
   "execution_count": 20,
   "id": "32bc18d0-42be-44f1-9972-def90c9050db",
   "metadata": {
    "id": "32bc18d0-42be-44f1-9972-def90c9050db"
   },
   "outputs": [],
   "source": [
    "def isSymmetric(root):\n",
    "    \"\"\"\n",
    "    :type root: Node\n",
    "    :rtype: bool\n",
    "    \"\"\"\n",
    "    return isSymmetricHelper(root.left, root.right)\n",
    "\n",
    "def isSymmetricHelper(left, right):\n",
    "    if left is None and right is None:\n",
    "        return True\n",
    "    elif left is None or right is None:\n",
    "        return False\n",
    "    else:\n",
    "        if left.val == right.val:\n",
    "            return isSymmetricHelper(left.left, right.right) and isSymmetricHelper(left.right, right.left)\n",
    "        else:\n",
    "            return False    \n",
    "            \n"
   ]
  },
  {
   "cell_type": "code",
   "execution_count": 21,
   "id": "8f8e5e83-fb68-4096-a6a4-a2cad9e93121",
   "metadata": {
    "id": "8f8e5e83-fb68-4096-a6a4-a2cad9e93121",
    "outputId": "9e9998f6-0856-4337-a759-e7ae31a0367b"
   },
   "outputs": [
    {
     "data": {
      "text/plain": [
       "False"
      ]
     },
     "execution_count": 21,
     "metadata": {},
     "output_type": "execute_result"
    }
   ],
   "source": [
    "isSymmetric(root)"
   ]
  },
  {
   "cell_type": "code",
   "execution_count": 26,
   "id": "e8dc1874-301b-466f-bc98-6357556d0359",
   "metadata": {
    "id": "e8dc1874-301b-466f-bc98-6357556d0359"
   },
   "outputs": [],
   "source": [
    "root = Node(1)\n",
    "root.left = Node(2)\n",
    "root.right = Node(2)\n",
    "root.right.left = Node(4)\n",
    "root.right.right = Node(3)\n",
    "root.left.right = Node(4)\n",
    "root.left.left = Node(3)"
   ]
  },
  {
   "cell_type": "code",
   "execution_count": 27,
   "id": "e6499f03-ec98-417c-a0dc-92d6d4432f81",
   "metadata": {
    "id": "e6499f03-ec98-417c-a0dc-92d6d4432f81",
    "outputId": "99f9743a-8610-487b-cd03-d35505d8e51f"
   },
   "outputs": [
    {
     "data": {
      "text/plain": [
       "True"
      ]
     },
     "execution_count": 27,
     "metadata": {},
     "output_type": "execute_result"
    }
   ],
   "source": [
    "isSymmetric(root)"
   ]
  },
  {
   "cell_type": "code",
   "execution_count": null,
   "id": "452ed636-4784-472a-82bc-c6a1cc922413",
   "metadata": {
    "id": "452ed636-4784-472a-82bc-c6a1cc922413"
   },
   "outputs": [],
   "source": []
  },
  {
   "cell_type": "code",
   "execution_count": null,
   "id": "c05bfec9-2e02-41ae-bb74-5d41afad2f42",
   "metadata": {
    "id": "c05bfec9-2e02-41ae-bb74-5d41afad2f42"
   },
   "outputs": [],
   "source": []
  },
  {
   "cell_type": "code",
   "execution_count": null,
   "id": "d30b6efe-bda6-436d-8d7b-5579334f0e0e",
   "metadata": {
    "id": "d30b6efe-bda6-436d-8d7b-5579334f0e0e"
   },
   "outputs": [],
   "source": []
  },
  {
   "cell_type": "code",
   "execution_count": null,
   "id": "68fb3034-1eb9-4764-990c-2a6ef6c12f20",
   "metadata": {
    "id": "68fb3034-1eb9-4764-990c-2a6ef6c12f20"
   },
   "outputs": [],
   "source": []
  },
  {
   "cell_type": "code",
   "execution_count": null,
   "id": "27461c94-7dd6-479e-8e54-9fd0402e4484",
   "metadata": {
    "id": "27461c94-7dd6-479e-8e54-9fd0402e4484",
    "outputId": "4d8d8127-ad8d-4aee-b6b6-92e2a8093a54"
   },
   "outputs": [
    {
     "name": "stdout",
     "output_type": "stream",
     "text": [
      "50\n",
      "60\n",
      "70\n",
      "80\n"
     ]
    }
   ],
   "source": []
  },
  {
   "cell_type": "code",
   "execution_count": null,
   "id": "027c5db8-00f1-438f-9599-36d9a83e649a",
   "metadata": {
    "id": "027c5db8-00f1-438f-9599-36d9a83e649a"
   },
   "outputs": [],
   "source": []
  },
  {
   "cell_type": "code",
   "execution_count": null,
   "id": "e02192dd-e488-4172-ab50-352f53e7ba5c",
   "metadata": {
    "id": "e02192dd-e488-4172-ab50-352f53e7ba5c",
    "outputId": "59d54cef-29f9-4059-b72d-c90c07201e92"
   },
   "outputs": [
    {
     "name": "stdout",
     "output_type": "stream",
     "text": [
      "50\n",
      "60\n",
      "90\n",
      "70\n",
      "80\n"
     ]
    }
   ],
   "source": []
  },
  {
   "cell_type": "code",
   "execution_count": null,
   "id": "5fc22f9e-f30e-4680-b2f3-8de3574dad14",
   "metadata": {
    "id": "5fc22f9e-f30e-4680-b2f3-8de3574dad14",
    "outputId": "1dfbed04-b86b-49c5-adbe-f471007a7752"
   },
   "outputs": [
    {
     "data": {
      "text/plain": [
       "90"
      ]
     },
     "execution_count": 101,
     "metadata": {},
     "output_type": "execute_result"
    }
   ],
   "source": [
    "lst[2]"
   ]
  },
  {
   "cell_type": "code",
   "execution_count": null,
   "id": "f6ad5c77-5298-4e33-bd6e-96f948db6f97",
   "metadata": {
    "id": "f6ad5c77-5298-4e33-bd6e-96f948db6f97"
   },
   "outputs": [],
   "source": []
  },
  {
   "cell_type": "code",
   "execution_count": null,
   "id": "6c41646a-40ef-4c71-a69a-b1421c98e382",
   "metadata": {
    "id": "6c41646a-40ef-4c71-a69a-b1421c98e382",
    "outputId": "80075670-5160-483a-b242-63f39f605f86"
   },
   "outputs": [
    {
     "data": {
      "text/plain": [
       "50"
      ]
     },
     "execution_count": 102,
     "metadata": {},
     "output_type": "execute_result"
    }
   ],
   "source": [
    "lst[0]"
   ]
  },
  {
   "cell_type": "code",
   "execution_count": null,
   "id": "8948f59b-6acb-436f-8c7b-e4ee14db022b",
   "metadata": {
    "id": "8948f59b-6acb-436f-8c7b-e4ee14db022b",
    "outputId": "147637fc-ce3e-4b0d-8416-9864fb2c7a8a"
   },
   "outputs": [
    {
     "data": {
      "text/plain": [
       "60"
      ]
     },
     "execution_count": 103,
     "metadata": {},
     "output_type": "execute_result"
    }
   ],
   "source": [
    "lst[1]"
   ]
  },
  {
   "cell_type": "code",
   "execution_count": null,
   "id": "cb07f3a7-1ff2-4a1e-822a-6f47df3d98fa",
   "metadata": {
    "id": "cb07f3a7-1ff2-4a1e-822a-6f47df3d98fa"
   },
   "outputs": [],
   "source": []
  },
  {
   "cell_type": "code",
   "execution_count": null,
   "id": "07c348ff-b7bf-4826-88fb-2832cb35963e",
   "metadata": {
    "id": "07c348ff-b7bf-4826-88fb-2832cb35963e",
    "outputId": "7950b7c8-0bdb-43db-f078-0e769dd211e3"
   },
   "outputs": [
    {
     "data": {
      "text/plain": [
       "60"
      ]
     },
     "execution_count": 105,
     "metadata": {},
     "output_type": "execute_result"
    }
   ],
   "source": []
  },
  {
   "cell_type": "code",
   "execution_count": null,
   "id": "6f43cc99-75b9-4fbc-8111-208883ae82ff",
   "metadata": {
    "id": "6f43cc99-75b9-4fbc-8111-208883ae82ff"
   },
   "outputs": [],
   "source": [
    "# Insert can be done in O(1) time given that you have access to where you want to insert"
   ]
  },
  {
   "cell_type": "code",
   "execution_count": null,
   "id": "a31849a5-d02f-4346-a89b-46344c02019f",
   "metadata": {
    "id": "a31849a5-d02f-4346-a89b-46344c02019f",
    "outputId": "6ec00daa-4816-40f7-cd03-d859001869f0"
   },
   "outputs": [
    {
     "name": "stdout",
     "output_type": "stream",
     "text": [
      "50\n",
      "60\n",
      "70\n",
      "80\n"
     ]
    }
   ],
   "source": []
  },
  {
   "cell_type": "code",
   "execution_count": null,
   "id": "6dc87569-c60b-4520-98dd-0591bfaa85a5",
   "metadata": {
    "id": "6dc87569-c60b-4520-98dd-0591bfaa85a5"
   },
   "outputs": [],
   "source": []
  },
  {
   "cell_type": "code",
   "execution_count": null,
   "id": "83fb37fb-0ba9-47c8-935c-aacd3b8ef3b7",
   "metadata": {
    "id": "83fb37fb-0ba9-47c8-935c-aacd3b8ef3b7"
   },
   "outputs": [],
   "source": []
  },
  {
   "cell_type": "code",
   "execution_count": null,
   "id": "458dd301-5b2c-448e-be8f-69e584f88394",
   "metadata": {
    "id": "458dd301-5b2c-448e-be8f-69e584f88394"
   },
   "outputs": [],
   "source": []
  },
  {
   "cell_type": "code",
   "execution_count": null,
   "id": "564cb708-a015-4143-ade4-25217c8e3236",
   "metadata": {
    "id": "564cb708-a015-4143-ade4-25217c8e3236",
    "outputId": "8f28a07a-5b65-4e4f-c1c6-46149919de34"
   },
   "outputs": [
    {
     "name": "stdout",
     "output_type": "stream",
     "text": [
      "80\n",
      "70\n",
      "60\n",
      "50\n"
     ]
    }
   ],
   "source": []
  },
  {
   "cell_type": "code",
   "execution_count": null,
   "id": "f9506059-ef33-4085-957c-948593e605fa",
   "metadata": {
    "id": "f9506059-ef33-4085-957c-948593e605fa"
   },
   "outputs": [],
   "source": []
  },
  {
   "cell_type": "code",
   "execution_count": null,
   "id": "035e7ea9-35d4-4a31-93eb-cb4f8ca4d46a",
   "metadata": {
    "id": "035e7ea9-35d4-4a31-93eb-cb4f8ca4d46a"
   },
   "outputs": [],
   "source": []
  },
  {
   "cell_type": "code",
   "execution_count": null,
   "id": "680802a7-06b0-4ab0-ab0e-1ec7dc8d5557",
   "metadata": {
    "id": "680802a7-06b0-4ab0-ab0e-1ec7dc8d5557",
    "outputId": "51ffbdf9-5a98-4278-e4b1-ce74f90809b6"
   },
   "outputs": [
    {
     "name": "stdout",
     "output_type": "stream",
     "text": [
      "50\n"
     ]
    }
   ],
   "source": []
  },
  {
   "cell_type": "code",
   "execution_count": null,
   "id": "e939b168-10e3-49fa-8396-2c8ec0d12b87",
   "metadata": {
    "id": "e939b168-10e3-49fa-8396-2c8ec0d12b87"
   },
   "outputs": [],
   "source": []
  }
 ],
 "metadata": {
  "colab": {
   "provenance": []
  },
  "kernelspec": {
   "display_name": "Python 3 (ipykernel)",
   "language": "python",
   "name": "python3"
  },
  "language_info": {
   "codemirror_mode": {
    "name": "ipython",
    "version": 3
   },
   "file_extension": ".py",
   "mimetype": "text/x-python",
   "name": "python",
   "nbconvert_exporter": "python",
   "pygments_lexer": "ipython3",
   "version": "3.11.5"
  }
 },
 "nbformat": 4,
 "nbformat_minor": 5
}
